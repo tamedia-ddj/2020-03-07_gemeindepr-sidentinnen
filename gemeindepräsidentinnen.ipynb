{
 "cells": [
  {
   "cell_type": "markdown",
   "metadata": {},
   "source": [
    "# Frauen an die Macht\n",
    "Auswertung des Frauenanteils bei den Gemeindepräsidien im Kanton Bern. Verwendet wird eine Namensliste der Gemeindepräsidentinnen und Gemeindepräsidenten sowie eine Tabelle mit Basisinformationen zu den Gemeinden. Beide Dokumente sind auf der [Website des Kantons](https://www.jgk.be.ch/jgk/de/index/gemeinden/gemeinden/gemeindedaten.html) zu finden. "
   ]
  },
  {
   "cell_type": "markdown",
   "metadata": {
    "toc": true
   },
   "source": [
    "<h1>Inhaltsverzeichnis<span class=\"tocSkip\"></span></h1>\n",
    "<div class=\"toc\"><ul class=\"toc-item\"><li><span><a href=\"#Datenaufbereitung\" data-toc-modified-id=\"Datenaufbereitung-1\"><span class=\"toc-item-num\">1&nbsp;&nbsp;</span>Datenaufbereitung</a></span></li><li><span><a href=\"#Auswertungen\" data-toc-modified-id=\"Auswertungen-2\"><span class=\"toc-item-num\">2&nbsp;&nbsp;</span>Auswertungen</a></span></li></ul></div>"
   ]
  },
  {
   "cell_type": "markdown",
   "metadata": {},
   "source": [
    "## Datenaufbereitung"
   ]
  },
  {
   "cell_type": "code",
   "execution_count": 16,
   "metadata": {},
   "outputs": [],
   "source": [
    "# Importieren der nötigen Bibliotheken. \n",
    "import pandas as pd\n",
    "import geopandas as gpd\n",
    "import numpy as np\n",
    "from datawrapper import Datawrapper\n",
    "import matplotlib.pyplot as plt\n",
    "%matplotlib inline\n",
    "plt.style.use('fivethirtyeight')\n",
    "import dw_config"
   ]
  },
  {
   "cell_type": "code",
   "execution_count": 17,
   "metadata": {},
   "outputs": [
    {
     "data": {
      "text/html": [
       "<div>\n",
       "<style scoped>\n",
       "    .dataframe tbody tr th:only-of-type {\n",
       "        vertical-align: middle;\n",
       "    }\n",
       "\n",
       "    .dataframe tbody tr th {\n",
       "        vertical-align: top;\n",
       "    }\n",
       "\n",
       "    .dataframe thead th {\n",
       "        text-align: right;\n",
       "    }\n",
       "</style>\n",
       "<table border=\"1\" class=\"dataframe\">\n",
       "  <thead>\n",
       "    <tr style=\"text-align: right;\">\n",
       "      <th></th>\n",
       "      <th>Gemeinde</th>\n",
       "      <th>Früherer Amtsbezirk</th>\n",
       "      <th>Regionalkonferenz</th>\n",
       "      <th>Verwaltungsregion</th>\n",
       "      <th>Verwaltungskreis</th>\n",
       "      <th>Wahlkreis ab 01.01.2011</th>\n",
       "      <th>Einwohner</th>\n",
       "      <th>Bemerkung</th>\n",
       "    </tr>\n",
       "    <tr>\n",
       "      <th>BFS</th>\n",
       "      <th></th>\n",
       "      <th></th>\n",
       "      <th></th>\n",
       "      <th></th>\n",
       "      <th></th>\n",
       "      <th></th>\n",
       "      <th></th>\n",
       "      <th></th>\n",
       "    </tr>\n",
       "  </thead>\n",
       "  <tbody>\n",
       "    <tr>\n",
       "      <th>301</th>\n",
       "      <td>Aarberg</td>\n",
       "      <td>Aarberg</td>\n",
       "      <td>Biel/Bienne - Seeland - Jura bernois</td>\n",
       "      <td>Seeland</td>\n",
       "      <td>Seeland</td>\n",
       "      <td>Biel-Seeland</td>\n",
       "      <td>4628</td>\n",
       "      <td>NaN</td>\n",
       "    </tr>\n",
       "    <tr>\n",
       "      <th>302</th>\n",
       "      <td>Bargen (BE)</td>\n",
       "      <td>Aarberg</td>\n",
       "      <td>Biel/Bienne - Seeland - Jura bernois</td>\n",
       "      <td>Seeland</td>\n",
       "      <td>Seeland</td>\n",
       "      <td>Biel-Seeland</td>\n",
       "      <td>999</td>\n",
       "      <td>NaN</td>\n",
       "    </tr>\n",
       "    <tr>\n",
       "      <th>303</th>\n",
       "      <td>Grossaffoltern</td>\n",
       "      <td>Aarberg</td>\n",
       "      <td>Biel/Bienne - Seeland - Jura bernois</td>\n",
       "      <td>Seeland</td>\n",
       "      <td>Seeland</td>\n",
       "      <td>Biel-Seeland</td>\n",
       "      <td>3018</td>\n",
       "      <td>NaN</td>\n",
       "    </tr>\n",
       "    <tr>\n",
       "      <th>304</th>\n",
       "      <td>Kallnach</td>\n",
       "      <td>Aarberg</td>\n",
       "      <td>Biel/Bienne - Seeland - Jura bernois</td>\n",
       "      <td>Seeland</td>\n",
       "      <td>Seeland</td>\n",
       "      <td>Biel-Seeland</td>\n",
       "      <td>2222</td>\n",
       "      <td>Fusion: 1.1.2019 Golaten/Kallnach (Kallnach)  ...</td>\n",
       "    </tr>\n",
       "    <tr>\n",
       "      <th>305</th>\n",
       "      <td>Kappelen</td>\n",
       "      <td>Aarberg</td>\n",
       "      <td>Biel/Bienne - Seeland - Jura bernois</td>\n",
       "      <td>Seeland</td>\n",
       "      <td>Seeland</td>\n",
       "      <td>Biel-Seeland</td>\n",
       "      <td>1419</td>\n",
       "      <td>NaN</td>\n",
       "    </tr>\n",
       "  </tbody>\n",
       "</table>\n",
       "</div>"
      ],
      "text/plain": [
       "           Gemeinde Früherer Amtsbezirk                     Regionalkonferenz  \\\n",
       "BFS                                                                             \n",
       "301         Aarberg             Aarberg  Biel/Bienne - Seeland - Jura bernois   \n",
       "302     Bargen (BE)             Aarberg  Biel/Bienne - Seeland - Jura bernois   \n",
       "303  Grossaffoltern             Aarberg  Biel/Bienne - Seeland - Jura bernois   \n",
       "304        Kallnach             Aarberg  Biel/Bienne - Seeland - Jura bernois   \n",
       "305        Kappelen             Aarberg  Biel/Bienne - Seeland - Jura bernois   \n",
       "\n",
       "    Verwaltungsregion Verwaltungskreis Wahlkreis ab 01.01.2011  Einwohner  \\\n",
       "BFS                                                                         \n",
       "301           Seeland          Seeland            Biel-Seeland       4628   \n",
       "302           Seeland          Seeland            Biel-Seeland        999   \n",
       "303           Seeland          Seeland            Biel-Seeland       3018   \n",
       "304           Seeland          Seeland            Biel-Seeland       2222   \n",
       "305           Seeland          Seeland            Biel-Seeland       1419   \n",
       "\n",
       "                                             Bemerkung  \n",
       "BFS                                                     \n",
       "301                                                NaN  \n",
       "302                                                NaN  \n",
       "303                                                NaN  \n",
       "304  Fusion: 1.1.2019 Golaten/Kallnach (Kallnach)  ...  \n",
       "305                                                NaN  "
      ]
     },
     "execution_count": 17,
     "metadata": {},
     "output_type": "execute_result"
    }
   ],
   "source": [
    "# Importieren der Grundlagedaten zu den Gemeinden (Stand: Ende 2018). \n",
    "df_gemeinden = pd.read_excel('https://www.jgk.be.ch/jgk/de/index/gemeinden/gemeinden/gemeindedaten.assetref/dam/documents/JGK/AGR/de/Gemeinden/Gemeindedaten/agr_gemeinden_gemeindedaten_gemeinden_rk_de.xlsx', skiprows=2)\n",
    "df_gemeinden.columns = [x.split(' / ')[0] for x in df_gemeinden.columns]\n",
    "df_gemeinden.set_index('BFS', inplace=True, drop=True)\n",
    "df_gemeinden['Gemeinde'] = df_gemeinden['Gemeinde'].str.strip()\n",
    "df_gemeinden['Gemeinde'] = df_gemeinden['Gemeinde'].str.replace('  ', ' ')\n",
    "df_gemeinden.head()"
   ]
  },
  {
   "cell_type": "code",
   "execution_count": 18,
   "metadata": {},
   "outputs": [
    {
     "data": {
      "text/html": [
       "<div>\n",
       "<style scoped>\n",
       "    .dataframe tbody tr th:only-of-type {\n",
       "        vertical-align: middle;\n",
       "    }\n",
       "\n",
       "    .dataframe tbody tr th {\n",
       "        vertical-align: top;\n",
       "    }\n",
       "\n",
       "    .dataframe thead th {\n",
       "        text-align: right;\n",
       "    }\n",
       "</style>\n",
       "<table border=\"1\" class=\"dataframe\">\n",
       "  <thead>\n",
       "    <tr style=\"text-align: right;\">\n",
       "      <th></th>\n",
       "      <th>Name</th>\n",
       "      <th>Vorname</th>\n",
       "      <th>Gemeinde</th>\n",
       "    </tr>\n",
       "  </thead>\n",
       "  <tbody>\n",
       "    <tr>\n",
       "      <th>0</th>\n",
       "      <td>Affolter</td>\n",
       "      <td>Fritz</td>\n",
       "      <td>Aarberg</td>\n",
       "    </tr>\n",
       "    <tr>\n",
       "      <th>1</th>\n",
       "      <td>Bläuenstein</td>\n",
       "      <td>Kurt</td>\n",
       "      <td>Aarwangen</td>\n",
       "    </tr>\n",
       "    <tr>\n",
       "      <th>2</th>\n",
       "      <td>Gempeler</td>\n",
       "      <td>Markus</td>\n",
       "      <td>Adelboden</td>\n",
       "    </tr>\n",
       "    <tr>\n",
       "      <th>3</th>\n",
       "      <td>Frank</td>\n",
       "      <td>Urs</td>\n",
       "      <td>Aefligen</td>\n",
       "    </tr>\n",
       "    <tr>\n",
       "      <th>4</th>\n",
       "      <td>Krattiger</td>\n",
       "      <td>Stefan</td>\n",
       "      <td>Aegerten</td>\n",
       "    </tr>\n",
       "  </tbody>\n",
       "</table>\n",
       "</div>"
      ],
      "text/plain": [
       "          Name Vorname   Gemeinde\n",
       "0     Affolter   Fritz    Aarberg\n",
       "1  Bläuenstein    Kurt  Aarwangen\n",
       "2     Gempeler  Markus  Adelboden\n",
       "3        Frank     Urs   Aefligen\n",
       "4    Krattiger  Stefan   Aegerten"
      ]
     },
     "execution_count": 18,
     "metadata": {},
     "output_type": "execute_result"
    }
   ],
   "source": [
    "# Importieren der Namensliste mit den Gemeindepräsidien.\n",
    "df_präsidien = pd.read_excel('https://www.jgk.be.ch/jgk/de/index/gemeinden/gemeinden/gemeindedaten.assetref/dam/documents/JGK/AGR/de/Gemeinden/Gemeindedaten/agr_gemeinden_gemeindedaten_liste_gemeindepraesidien_kanton_bern_de.xlsx', skiprows=1)\n",
    "df_präsidien.columns = [x.split(' / ')[0] for x in df_präsidien]\n",
    "df_präsidien.head()"
   ]
  },
  {
   "cell_type": "code",
   "execution_count": 19,
   "metadata": {},
   "outputs": [
    {
     "data": {
      "text/plain": [
       "346"
      ]
     },
     "execution_count": 19,
     "metadata": {},
     "output_type": "execute_result"
    }
   ],
   "source": [
    "# Wie viele Einträge hat der Präsidenten-Datensatz? \n",
    "len(df_präsidien)"
   ]
  },
  {
   "cell_type": "code",
   "execution_count": 20,
   "metadata": {},
   "outputs": [
    {
     "data": {
      "text/plain": [
       "347"
      ]
     },
     "execution_count": 20,
     "metadata": {},
     "output_type": "execute_result"
    }
   ],
   "source": [
    "# Wie viele Einträge hat der Gemeinde-Datensatz? \n",
    "len(df_gemeinden)"
   ]
  },
  {
   "cell_type": "code",
   "execution_count": 21,
   "metadata": {},
   "outputs": [
    {
     "data": {
      "text/plain": [
       "['Gurbrü', 'La Neuveville', 'Péry-La HeuttePéry-La Heutte']"
      ]
     },
     "execution_count": 21,
     "metadata": {},
     "output_type": "execute_result"
    }
   ],
   "source": [
    "# Welche Gemeinde ist im Präsidenten-Datensatz nicht enthalten? \n",
    "g1 = df_gemeinden['Gemeinde'].tolist()\n",
    "g2 = df_präsidien['Gemeinde'].tolist()\n",
    "[x for x in g2 if x not in g1]"
   ]
  },
  {
   "cell_type": "code",
   "execution_count": 22,
   "metadata": {},
   "outputs": [],
   "source": [
    "# Im Datensatz fehlen zwei Gemeinden. Die Infos, die wir unten benötigen, werden nachgetragen. \n",
    "df_temp = pd.DataFrame([{'BFS': 665, 'Gemeinde': 'Gurbrü', 'Verwaltungskreis': 'Bern-Mittelland', 'Einwohner': 261}])\n",
    "df_temp.set_index('BFS', inplace=True, drop=True)\n",
    "df_gemeinden = df_gemeinden.append(df_temp)"
   ]
  },
  {
   "cell_type": "code",
   "execution_count": 23,
   "metadata": {},
   "outputs": [],
   "source": [
    "# Zwei fehlerhafte Einträge wird korrigiert. \n",
    "df_präsidien.at[220, 'Gemeinde'] = 'Péry-La Heutte'\n",
    "df_präsidien.at[147, 'Gemeinde'] = 'Neuveville'\n",
    "df_präsidien.at[341, 'Name'] = 'Kaufmann'\n",
    "df_präsidien.at[341, 'Vorname'] = 'Beatrice'"
   ]
  },
  {
   "cell_type": "code",
   "execution_count": 24,
   "metadata": {},
   "outputs": [],
   "source": [
    "# Thurnen wird entfernt. Diese Gemeinde entsteht erst 2020. \n",
    "df_gemeinden = df_gemeinden[df_gemeinden['Gemeinde'] != 'Thurnen']"
   ]
  },
  {
   "cell_type": "code",
   "execution_count": 25,
   "metadata": {},
   "outputs": [],
   "source": [
    "# Ein doppelter Eintrag wird entfernt. \n",
    "df_gemeinden = df_gemeinden.drop_duplicates()"
   ]
  },
  {
   "cell_type": "code",
   "execution_count": 26,
   "metadata": {},
   "outputs": [],
   "source": [
    "# Die Fusion zwischen Kallnach und Golaten vom 1. Januar 2019 wird übernommen. \n",
    "i = df_gemeinden[df_gemeinden['Gemeinde'] == 'Kallnach'].index\n",
    "e1 = df_gemeinden[df_gemeinden['Gemeinde'] == 'Kallnach']['Einwohner'].iloc[0]\n",
    "e2 = df_gemeinden[df_gemeinden['Gemeinde'] == 'Golaten']['Einwohner'].iloc[0]\n",
    "df_gemeinden.at[i, 'Einwohner'] = e1 + e2\n",
    "df_gemeinden = df_gemeinden[df_gemeinden['Gemeinde'] != 'Golaten']"
   ]
  },
  {
   "cell_type": "code",
   "execution_count": 29,
   "metadata": {},
   "outputs": [
    {
     "data": {
      "text/plain": [
       "346"
      ]
     },
     "execution_count": 29,
     "metadata": {},
     "output_type": "execute_result"
    }
   ],
   "source": [
    "# Zur Kontrolle: Wie viele Gemeinden sind im Gemeindedatensatz verzeichnet? \n",
    "len(df_gemeinden)"
   ]
  },
  {
   "cell_type": "code",
   "execution_count": 30,
   "metadata": {},
   "outputs": [
    {
     "data": {
      "text/plain": [
       "346"
      ]
     },
     "execution_count": 30,
     "metadata": {},
     "output_type": "execute_result"
    }
   ],
   "source": [
    "# Zur Kontrolle: # Wie viele Gemeinden sind im Präsidialdatensatz verzeichnet? \n",
    "len(df_präsidien)"
   ]
  },
  {
   "cell_type": "code",
   "execution_count": 31,
   "metadata": {},
   "outputs": [
    {
     "data": {
      "text/html": [
       "<div>\n",
       "<style scoped>\n",
       "    .dataframe tbody tr th:only-of-type {\n",
       "        vertical-align: middle;\n",
       "    }\n",
       "\n",
       "    .dataframe tbody tr th {\n",
       "        vertical-align: top;\n",
       "    }\n",
       "\n",
       "    .dataframe thead th {\n",
       "        text-align: right;\n",
       "    }\n",
       "</style>\n",
       "<table border=\"1\" class=\"dataframe\">\n",
       "  <thead>\n",
       "    <tr style=\"text-align: right;\">\n",
       "      <th></th>\n",
       "      <th>weiblich</th>\n",
       "      <th>männlich</th>\n",
       "      <th>geschlecht</th>\n",
       "    </tr>\n",
       "    <tr>\n",
       "      <th>vorname</th>\n",
       "      <th></th>\n",
       "      <th></th>\n",
       "      <th></th>\n",
       "    </tr>\n",
       "  </thead>\n",
       "  <tbody>\n",
       "    <tr>\n",
       "      <th>Aada</th>\n",
       "      <td>11</td>\n",
       "      <td>0</td>\n",
       "      <td>w</td>\n",
       "    </tr>\n",
       "    <tr>\n",
       "      <th>Aadam</th>\n",
       "      <td>0</td>\n",
       "      <td>5</td>\n",
       "      <td>m</td>\n",
       "    </tr>\n",
       "    <tr>\n",
       "      <th>Aadan</th>\n",
       "      <td>0</td>\n",
       "      <td>7</td>\n",
       "      <td>m</td>\n",
       "    </tr>\n",
       "    <tr>\n",
       "      <th>Aadel</th>\n",
       "      <td>0</td>\n",
       "      <td>3</td>\n",
       "      <td>m</td>\n",
       "    </tr>\n",
       "    <tr>\n",
       "      <th>Aaden</th>\n",
       "      <td>0</td>\n",
       "      <td>3</td>\n",
       "      <td>m</td>\n",
       "    </tr>\n",
       "  </tbody>\n",
       "</table>\n",
       "</div>"
      ],
      "text/plain": [
       "         weiblich  männlich geschlecht\n",
       "vorname                               \n",
       "Aada           11         0          w\n",
       "Aadam           0         5          m\n",
       "Aadan           0         7          m\n",
       "Aadel           0         3          m\n",
       "Aaden           0         3          m"
      ]
     },
     "execution_count": 31,
     "metadata": {},
     "output_type": "execute_result"
    }
   ],
   "source": [
    "# Eine Liste mit Vornamen inklusive dem Geschlecht wird generiert.  \n",
    "# Die Namensliste des Bundesamts für Statistik wird eingelesen. \n",
    "df_namen_2017 = pd.read_excel('../../morgenteam/2019-06-13_gender/daten/vornamen.xlsx', skiprows=4, usecols=[1,2,3], sheet_name='2017')\n",
    "df_namen_2017.columns = ['vorname', 'weiblich', 'männlich']\n",
    "\n",
    "df_namen_2016 = pd.read_excel('../../morgenteam/2019-06-13_gender/daten/vornamen.xlsx', skiprows=5, usecols=[0,1,2,3], sheet_name='2016')\n",
    "df_namen_2016.columns = ['vorname', 'weiblich', 'männlich']\n",
    "\n",
    "df_namen_2015 = pd.read_excel('../../morgenteam/2019-06-13_gender/daten/vornamen.xlsx', skiprows=5, usecols=[0,1,2,3], sheet_name='2015')\n",
    "df_namen_2015.columns = ['vorname', 'weiblich', 'männlich']\n",
    "\n",
    "# Die einzelnen Datenblätter werden zu einem zusammengefügt. \n",
    "df_namen = pd.concat([df_namen_2017, df_namen_2016], ignore_index=True, axis=0)\n",
    "df_namen = pd.concat([df_namen, df_namen_2015], ignore_index=True, axis=0)\n",
    "\n",
    "# Duplikate werden entfernt.\n",
    "df_namen = df_namen.drop_duplicates(subset=['vorname'])\n",
    "df_namen.index = df_namen['vorname']\n",
    "del df_namen['vorname']\n",
    "df_namen = df_namen.dropna(subset=['weiblich', 'männlich'])\n",
    "\n",
    "df_namen['weiblich'] = df_namen['weiblich'].apply(lambda x: int(str(x).replace('*', '0')))\n",
    "df_namen['männlich'] = df_namen['männlich'].apply(lambda x: int(str(x).replace('*', '0')))\n",
    "df_namen.head()\n",
    "\n",
    "# Behalten werden nur Namen, die zu mindestens drei Vierteln für ein bestimmtes Geschlecht stehen. \n",
    "def get_geschlecht(temp):\n",
    "    r = int(temp[0]) / int((temp[0]) + int(temp[1]))\n",
    "    if r > 0.75:\n",
    "        return 'w'\n",
    "    elif r < 0.25:\n",
    "        return 'm'\n",
    "    else:\n",
    "        return 'unklar'\n",
    "    \n",
    "for index, row in df_namen.iterrows():\n",
    "    df_namen.at[index, 'geschlecht'] = get_geschlecht([row['weiblich'], row['männlich']])\n",
    "    \n",
    "# Namen, bei denen die Geschlechterzuordnung unklar ist, werden ignoriert. \n",
    "df_namen = df_namen[df_namen['geschlecht'] != 'unklar']\n",
    "\n",
    "df_namen.head()"
   ]
  },
  {
   "cell_type": "code",
   "execution_count": 32,
   "metadata": {},
   "outputs": [],
   "source": [
    "# Anhand der Vornamen aus dem Namensdatensatz wird das Geschlecht bestimmt.  \n",
    "def mannoderfrau(vorname): \n",
    "    try:\n",
    "        return df_namen.loc[vorname]['geschlecht']\n",
    "    except: \n",
    "        return ''\n",
    "\n",
    "df_präsidien['geschlecht'] = df_präsidien['Vorname'].apply(mannoderfrau)"
   ]
  },
  {
   "cell_type": "code",
   "execution_count": 33,
   "metadata": {},
   "outputs": [
    {
     "data": {
      "text/html": [
       "<div>\n",
       "<style scoped>\n",
       "    .dataframe tbody tr th:only-of-type {\n",
       "        vertical-align: middle;\n",
       "    }\n",
       "\n",
       "    .dataframe tbody tr th {\n",
       "        vertical-align: top;\n",
       "    }\n",
       "\n",
       "    .dataframe thead th {\n",
       "        text-align: right;\n",
       "    }\n",
       "</style>\n",
       "<table border=\"1\" class=\"dataframe\">\n",
       "  <thead>\n",
       "    <tr style=\"text-align: right;\">\n",
       "      <th></th>\n",
       "      <th>Name</th>\n",
       "      <th>Vorname</th>\n",
       "      <th>Gemeinde</th>\n",
       "      <th>geschlecht</th>\n",
       "    </tr>\n",
       "  </thead>\n",
       "  <tbody>\n",
       "    <tr>\n",
       "      <th>105</th>\n",
       "      <td>Widmer</td>\n",
       "      <td>Hans Ulrich</td>\n",
       "      <td>Heimiswil</td>\n",
       "      <td></td>\n",
       "    </tr>\n",
       "    <tr>\n",
       "      <th>154</th>\n",
       "      <td>Gerber</td>\n",
       "      <td>Hans Ulrich</td>\n",
       "      <td>Lauperswil</td>\n",
       "      <td></td>\n",
       "    </tr>\n",
       "    <tr>\n",
       "      <th>179</th>\n",
       "      <td>Wälti</td>\n",
       "      <td>Hans Peter</td>\n",
       "      <td>Merzligen</td>\n",
       "      <td></td>\n",
       "    </tr>\n",
       "    <tr>\n",
       "      <th>197</th>\n",
       "      <td>Schweizer</td>\n",
       "      <td>Hans Rudolf</td>\n",
       "      <td>Niedermuhlern</td>\n",
       "      <td></td>\n",
       "    </tr>\n",
       "    <tr>\n",
       "      <th>230</th>\n",
       "      <td>Mürner</td>\n",
       "      <td>Hans Ulrich</td>\n",
       "      <td>Reichenbach im Kandertal</td>\n",
       "      <td></td>\n",
       "    </tr>\n",
       "    <tr>\n",
       "      <th>265</th>\n",
       "      <td>Mühlheim</td>\n",
       "      <td>Hans Rudolf</td>\n",
       "      <td>Schwadernau</td>\n",
       "      <td></td>\n",
       "    </tr>\n",
       "    <tr>\n",
       "      <th>339</th>\n",
       "      <td>Baltensperger</td>\n",
       "      <td>Hans Peter</td>\n",
       "      <td>Wyssachen</td>\n",
       "      <td></td>\n",
       "    </tr>\n",
       "  </tbody>\n",
       "</table>\n",
       "</div>"
      ],
      "text/plain": [
       "              Name      Vorname                  Gemeinde geschlecht\n",
       "105         Widmer  Hans Ulrich                 Heimiswil           \n",
       "154         Gerber  Hans Ulrich                Lauperswil           \n",
       "179          Wälti   Hans Peter                 Merzligen           \n",
       "197      Schweizer  Hans Rudolf             Niedermuhlern           \n",
       "230         Mürner  Hans Ulrich  Reichenbach im Kandertal           \n",
       "265       Mühlheim  Hans Rudolf               Schwadernau           \n",
       "339  Baltensperger   Hans Peter                 Wyssachen           "
      ]
     },
     "execution_count": 33,
     "metadata": {},
     "output_type": "execute_result"
    }
   ],
   "source": [
    "# Zur Kontrolle: Wo konnte das Geschlecht nicht zugewiesen werden? \n",
    "df_präsidien[df_präsidien['geschlecht'] == '']"
   ]
  },
  {
   "cell_type": "code",
   "execution_count": 34,
   "metadata": {},
   "outputs": [],
   "source": [
    "# Bei allen handelt es sich um Männer... Die fehlenden Information wird ergänzt. \n",
    "for i, r in df_präsidien[df_präsidien['geschlecht'] == ''].iterrows():\n",
    "    df_präsidien.at[i, 'geschlecht'] = 'm'"
   ]
  },
  {
   "cell_type": "code",
   "execution_count": 35,
   "metadata": {},
   "outputs": [],
   "source": [
    "# Zusammenführen der Datensätze. \n",
    "df = pd.merge(df_präsidien, df_gemeinden.reset_index(), left_on='Gemeinde' , right_on='Gemeinde', how='left')"
   ]
  },
  {
   "cell_type": "code",
   "execution_count": 19,
   "metadata": {},
   "outputs": [],
   "source": [
    "# Die Daten werden exportiert. Nun können sie manuell kontrolliert und bearbeitet werden. \n",
    "df.to_excel('daten/rohdaten.xlsx')\n",
    "!libreoffice daten/rohdaten.xlsx"
   ]
  },
  {
   "cell_type": "markdown",
   "metadata": {},
   "source": [
    "## Auswertungen"
   ]
  },
  {
   "cell_type": "code",
   "execution_count": 36,
   "metadata": {},
   "outputs": [],
   "source": [
    "# Die korrigierten Daten werden neu eingelesen. \n",
    "df = pd.read_excel('daten/rohdaten.xlsx', index_col='Unnamed: 0')"
   ]
  },
  {
   "cell_type": "code",
   "execution_count": 37,
   "metadata": {},
   "outputs": [
    {
     "data": {
      "text/html": [
       "<div>\n",
       "<style scoped>\n",
       "    .dataframe tbody tr th:only-of-type {\n",
       "        vertical-align: middle;\n",
       "    }\n",
       "\n",
       "    .dataframe tbody tr th {\n",
       "        vertical-align: top;\n",
       "    }\n",
       "\n",
       "    .dataframe thead th {\n",
       "        text-align: right;\n",
       "    }\n",
       "</style>\n",
       "<table border=\"1\" class=\"dataframe\">\n",
       "  <thead>\n",
       "    <tr style=\"text-align: right;\">\n",
       "      <th></th>\n",
       "      <th>Name</th>\n",
       "      <th>Vorname</th>\n",
       "      <th>Gemeinde</th>\n",
       "      <th>geschlecht</th>\n",
       "      <th>BFS</th>\n",
       "      <th>Früherer Amtsbezirk</th>\n",
       "      <th>Regionalkonferenz</th>\n",
       "      <th>Verwaltungsregion</th>\n",
       "      <th>Verwaltungskreis</th>\n",
       "      <th>Wahlkreis ab 01.01.2011</th>\n",
       "      <th>Einwohner</th>\n",
       "      <th>Bemerkung</th>\n",
       "    </tr>\n",
       "  </thead>\n",
       "  <tbody>\n",
       "    <tr>\n",
       "      <th>0</th>\n",
       "      <td>Affolter</td>\n",
       "      <td>Fritz</td>\n",
       "      <td>Aarberg</td>\n",
       "      <td>m</td>\n",
       "      <td>301</td>\n",
       "      <td>Aarberg</td>\n",
       "      <td>Biel/Bienne - Seeland - Jura bernois</td>\n",
       "      <td>Seeland</td>\n",
       "      <td>Seeland</td>\n",
       "      <td>Biel-Seeland</td>\n",
       "      <td>4628</td>\n",
       "      <td>NaN</td>\n",
       "    </tr>\n",
       "    <tr>\n",
       "      <th>1</th>\n",
       "      <td>Bläuenstein</td>\n",
       "      <td>Kurt</td>\n",
       "      <td>Aarwangen</td>\n",
       "      <td>m</td>\n",
       "      <td>321</td>\n",
       "      <td>Aarwangen</td>\n",
       "      <td>Oberaargau</td>\n",
       "      <td>Emmental-Oberaargau</td>\n",
       "      <td>Oberaargau</td>\n",
       "      <td>Oberaargau</td>\n",
       "      <td>4561</td>\n",
       "      <td>NaN</td>\n",
       "    </tr>\n",
       "    <tr>\n",
       "      <th>2</th>\n",
       "      <td>Gempeler</td>\n",
       "      <td>Markus</td>\n",
       "      <td>Adelboden</td>\n",
       "      <td>m</td>\n",
       "      <td>561</td>\n",
       "      <td>Frutigen</td>\n",
       "      <td>Thun Oberland-West</td>\n",
       "      <td>Oberland</td>\n",
       "      <td>Frutigen-Niedersimmental</td>\n",
       "      <td>Oberland</td>\n",
       "      <td>3390</td>\n",
       "      <td>NaN</td>\n",
       "    </tr>\n",
       "    <tr>\n",
       "      <th>3</th>\n",
       "      <td>Frank</td>\n",
       "      <td>Urs</td>\n",
       "      <td>Aefligen</td>\n",
       "      <td>m</td>\n",
       "      <td>401</td>\n",
       "      <td>Burgdorf</td>\n",
       "      <td>Emmental</td>\n",
       "      <td>Emmental-Oberaargau</td>\n",
       "      <td>Emmental</td>\n",
       "      <td>Emmental</td>\n",
       "      <td>1090</td>\n",
       "      <td>NaN</td>\n",
       "    </tr>\n",
       "    <tr>\n",
       "      <th>4</th>\n",
       "      <td>Krattiger</td>\n",
       "      <td>Stefan</td>\n",
       "      <td>Aegerten</td>\n",
       "      <td>m</td>\n",
       "      <td>731</td>\n",
       "      <td>Nidau</td>\n",
       "      <td>Biel/Bienne - Seeland - Jura bernois</td>\n",
       "      <td>Seeland</td>\n",
       "      <td>Biel/Bienne</td>\n",
       "      <td>Biel-Seeland</td>\n",
       "      <td>2159</td>\n",
       "      <td>NaN</td>\n",
       "    </tr>\n",
       "  </tbody>\n",
       "</table>\n",
       "</div>"
      ],
      "text/plain": [
       "          Name Vorname   Gemeinde geschlecht  BFS Früherer Amtsbezirk  \\\n",
       "0     Affolter   Fritz    Aarberg          m  301             Aarberg   \n",
       "1  Bläuenstein    Kurt  Aarwangen          m  321           Aarwangen   \n",
       "2     Gempeler  Markus  Adelboden          m  561            Frutigen   \n",
       "3        Frank     Urs   Aefligen          m  401            Burgdorf   \n",
       "4    Krattiger  Stefan   Aegerten          m  731               Nidau   \n",
       "\n",
       "                      Regionalkonferenz    Verwaltungsregion  \\\n",
       "0  Biel/Bienne - Seeland - Jura bernois              Seeland   \n",
       "1                            Oberaargau  Emmental-Oberaargau   \n",
       "2                    Thun Oberland-West             Oberland   \n",
       "3                              Emmental  Emmental-Oberaargau   \n",
       "4  Biel/Bienne - Seeland - Jura bernois              Seeland   \n",
       "\n",
       "           Verwaltungskreis Wahlkreis ab 01.01.2011  Einwohner Bemerkung  \n",
       "0                   Seeland            Biel-Seeland       4628       NaN  \n",
       "1                Oberaargau              Oberaargau       4561       NaN  \n",
       "2  Frutigen-Niedersimmental                Oberland       3390       NaN  \n",
       "3                  Emmental                Emmental       1090       NaN  \n",
       "4               Biel/Bienne            Biel-Seeland       2159       NaN  "
      ]
     },
     "execution_count": 37,
     "metadata": {},
     "output_type": "execute_result"
    }
   ],
   "source": [
    "# Ein Blick auf die ersten paar Zeilen des Datensatzes. \n",
    "df.head()"
   ]
  },
  {
   "cell_type": "code",
   "execution_count": 38,
   "metadata": {},
   "outputs": [
    {
     "data": {
      "text/plain": [
       "346"
      ]
     },
     "execution_count": 38,
     "metadata": {},
     "output_type": "execute_result"
    }
   ],
   "source": [
    "# Wie viele Gemeindepräsidentinnen und Gemeindepräsidenten sind verzeichnet? \n",
    "len(df)"
   ]
  },
  {
   "cell_type": "code",
   "execution_count": 23,
   "metadata": {},
   "outputs": [
    {
     "data": {
      "text/plain": [
       "m    289\n",
       "w     57\n",
       "Name: geschlecht, dtype: int64"
      ]
     },
     "execution_count": 23,
     "metadata": {},
     "output_type": "execute_result"
    }
   ],
   "source": [
    "# Wie viele Frauen und wie viele Männer haben im Kanton Bern ein Gemeindepräsidium inne? \n",
    "df['geschlecht'].value_counts()"
   ]
  },
  {
   "cell_type": "code",
   "execution_count": 24,
   "metadata": {},
   "outputs": [
    {
     "data": {
      "text/plain": [
       "16.473988439306357"
      ]
     },
     "execution_count": 24,
     "metadata": {},
     "output_type": "execute_result"
    }
   ],
   "source": [
    "# Wie gross ist der prozentuale Anteil der Frauen? \n",
    "100 * len(df[df['geschlecht'] == 'w']) / len(df)"
   ]
  },
  {
   "cell_type": "code",
   "execution_count": 25,
   "metadata": {},
   "outputs": [
    {
     "data": {
      "text/plain": [
       "5.0701754385964914"
      ]
     },
     "execution_count": 25,
     "metadata": {},
     "output_type": "execute_result"
    }
   ],
   "source": [
    "# Auf wie viele Gemeindepräsidenten kommt eine Gemeindepräsidentin? \n",
    "len(df[df['geschlecht'] == 'm']) / len(df[df['geschlecht'] == 'w'])"
   ]
  },
  {
   "cell_type": "code",
   "execution_count": 42,
   "metadata": {},
   "outputs": [
    {
     "data": {
      "text/html": [
       "<div>\n",
       "<style scoped>\n",
       "    .dataframe tbody tr th:only-of-type {\n",
       "        vertical-align: middle;\n",
       "    }\n",
       "\n",
       "    .dataframe tbody tr th {\n",
       "        vertical-align: top;\n",
       "    }\n",
       "\n",
       "    .dataframe thead th {\n",
       "        text-align: right;\n",
       "    }\n",
       "</style>\n",
       "<table border=\"1\" class=\"dataframe\">\n",
       "  <thead>\n",
       "    <tr style=\"text-align: right;\">\n",
       "      <th></th>\n",
       "      <th>m</th>\n",
       "      <th>w</th>\n",
       "      <th>anz_gemeinden</th>\n",
       "      <th>männer_prozent</th>\n",
       "      <th>frauen_prozent</th>\n",
       "    </tr>\n",
       "    <tr>\n",
       "      <th>Verwaltungskreis</th>\n",
       "      <th></th>\n",
       "      <th></th>\n",
       "      <th></th>\n",
       "      <th></th>\n",
       "      <th></th>\n",
       "    </tr>\n",
       "  </thead>\n",
       "  <tbody>\n",
       "    <tr>\n",
       "      <th>Bern-Mittelland</th>\n",
       "      <td>65.0</td>\n",
       "      <td>14.0</td>\n",
       "      <td>79.0</td>\n",
       "      <td>82.278481</td>\n",
       "      <td>17.721519</td>\n",
       "    </tr>\n",
       "    <tr>\n",
       "      <th>Biel/Bienne</th>\n",
       "      <td>14.0</td>\n",
       "      <td>5.0</td>\n",
       "      <td>19.0</td>\n",
       "      <td>73.684211</td>\n",
       "      <td>26.315789</td>\n",
       "    </tr>\n",
       "    <tr>\n",
       "      <th>Emmental</th>\n",
       "      <td>35.0</td>\n",
       "      <td>5.0</td>\n",
       "      <td>40.0</td>\n",
       "      <td>87.500000</td>\n",
       "      <td>12.500000</td>\n",
       "    </tr>\n",
       "    <tr>\n",
       "      <th>Frutigen-Niedersimmental</th>\n",
       "      <td>10.0</td>\n",
       "      <td>3.0</td>\n",
       "      <td>13.0</td>\n",
       "      <td>76.923077</td>\n",
       "      <td>23.076923</td>\n",
       "    </tr>\n",
       "    <tr>\n",
       "      <th>Interlaken-Oberhasli</th>\n",
       "      <td>27.0</td>\n",
       "      <td>1.0</td>\n",
       "      <td>28.0</td>\n",
       "      <td>96.428571</td>\n",
       "      <td>3.571429</td>\n",
       "    </tr>\n",
       "    <tr>\n",
       "      <th>Jura bernois</th>\n",
       "      <td>35.0</td>\n",
       "      <td>5.0</td>\n",
       "      <td>40.0</td>\n",
       "      <td>87.500000</td>\n",
       "      <td>12.500000</td>\n",
       "    </tr>\n",
       "    <tr>\n",
       "      <th>Oberaargau</th>\n",
       "      <td>35.0</td>\n",
       "      <td>11.0</td>\n",
       "      <td>46.0</td>\n",
       "      <td>76.086957</td>\n",
       "      <td>23.913043</td>\n",
       "    </tr>\n",
       "    <tr>\n",
       "      <th>Obersimmental-Saanen</th>\n",
       "      <td>7.0</td>\n",
       "      <td>0.0</td>\n",
       "      <td>7.0</td>\n",
       "      <td>100.000000</td>\n",
       "      <td>0.000000</td>\n",
       "    </tr>\n",
       "    <tr>\n",
       "      <th>Seeland</th>\n",
       "      <td>32.0</td>\n",
       "      <td>10.0</td>\n",
       "      <td>42.0</td>\n",
       "      <td>76.190476</td>\n",
       "      <td>23.809524</td>\n",
       "    </tr>\n",
       "    <tr>\n",
       "      <th>Thun</th>\n",
       "      <td>29.0</td>\n",
       "      <td>3.0</td>\n",
       "      <td>32.0</td>\n",
       "      <td>90.625000</td>\n",
       "      <td>9.375000</td>\n",
       "    </tr>\n",
       "  </tbody>\n",
       "</table>\n",
       "</div>"
      ],
      "text/plain": [
       "                             m     w  anz_gemeinden  männer_prozent  \\\n",
       "Verwaltungskreis                                                      \n",
       "Bern-Mittelland           65.0  14.0           79.0       82.278481   \n",
       "Biel/Bienne               14.0   5.0           19.0       73.684211   \n",
       "Emmental                  35.0   5.0           40.0       87.500000   \n",
       "Frutigen-Niedersimmental  10.0   3.0           13.0       76.923077   \n",
       "Interlaken-Oberhasli      27.0   1.0           28.0       96.428571   \n",
       "Jura bernois              35.0   5.0           40.0       87.500000   \n",
       "Oberaargau                35.0  11.0           46.0       76.086957   \n",
       "Obersimmental-Saanen       7.0   0.0            7.0      100.000000   \n",
       "Seeland                   32.0  10.0           42.0       76.190476   \n",
       "Thun                      29.0   3.0           32.0       90.625000   \n",
       "\n",
       "                          frauen_prozent  \n",
       "Verwaltungskreis                          \n",
       "Bern-Mittelland                17.721519  \n",
       "Biel/Bienne                    26.315789  \n",
       "Emmental                       12.500000  \n",
       "Frutigen-Niedersimmental       23.076923  \n",
       "Interlaken-Oberhasli            3.571429  \n",
       "Jura bernois                   12.500000  \n",
       "Oberaargau                     23.913043  \n",
       "Obersimmental-Saanen            0.000000  \n",
       "Seeland                        23.809524  \n",
       "Thun                            9.375000  "
      ]
     },
     "execution_count": 42,
     "metadata": {},
     "output_type": "execute_result"
    }
   ],
   "source": [
    "# Wie sieht die Geschlechter-Verteilung in den einzelnen Verwaltungskreisen aus? \n",
    "df_gender = pd.DataFrame(df.groupby(by='Verwaltungskreis')['geschlecht'].value_counts()).unstack()\n",
    "df_gender.columns = [x[1] for x in df_gender.columns]\n",
    "df_gender = df_gender.fillna(0)\n",
    "df_gender['anz_gemeinden'] = df_gender[['m', 'w']].sum(axis=1)\n",
    "df_gender['männer_prozent'] = 100 * df_gender['m'] / df_gender['anz_gemeinden']\n",
    "df_gender['frauen_prozent'] = 100 * df_gender['w'] / df_gender['anz_gemeinden']\n",
    "df_gender['männer_prozent'] = df_gender['männer_prozent'].replace(np.inf, np.nan)\n",
    "df_gender = df_gender.fillna(100)\n",
    "df_gender"
   ]
  },
  {
   "cell_type": "code",
   "execution_count": 27,
   "metadata": {},
   "outputs": [
    {
     "data": {
      "text/plain": [
       "<matplotlib.axes._subplots.AxesSubplot at 0x7fbffbae3750>"
      ]
     },
     "execution_count": 27,
     "metadata": {},
     "output_type": "execute_result"
    },
    {
     "data": {
      "image/png": "[encoded data removed]",
      "text/plain": [
       "<Figure size 432x288 with 1 Axes>"
      ]
     },
     "metadata": {
      "needs_background": "light"
     },
     "output_type": "display_data"
    }
   ],
   "source": [
    "# Wie sieht die Geschlechter-Verteilung in den einzelnen Verwaltungskreisen aus? Die Grafik.\n",
    "df_gender.sort_values(by='frauen_prozent')[['m', 'w']].plot(kind='barh', stacked=True)"
   ]
  },
  {
   "cell_type": "code",
   "execution_count": 28,
   "metadata": {},
   "outputs": [
    {
     "data": {
      "text/plain": [
       "<matplotlib.axes._subplots.AxesSubplot at 0x7fbffa1ca3d0>"
      ]
     },
     "execution_count": 28,
     "metadata": {},
     "output_type": "execute_result"
    },
    {
     "data": {
      "image/png": "[encoded data removed]",
      "text/plain": [
       "<Figure size 432x288 with 1 Axes>"
      ]
     },
     "metadata": {
      "needs_background": "light"
     },
     "output_type": "display_data"
    }
   ],
   "source": [
    "# Wie sieht die Geschlechter-Verteilung in den einzelnen Verwaltungskreisen aus? Grafik mit relativen Zahlen. \n",
    "df_gender[['männer_prozent', 'frauen_prozent']].sort_values(by='frauen_prozent').plot(kind='barh', stacked=True)"
   ]
  },
  {
   "cell_type": "code",
   "execution_count": 29,
   "metadata": {},
   "outputs": [
    {
     "name": "stdout",
     "output_type": "stream",
     "text": [
      "New chart d3-bars-stacked created!\n",
      "Chart updated!\n"
     ]
    },
    {
     "name": "stderr",
     "output_type": "stream",
     "text": [
      "/home/this/.local/lib/python3.7/site-packages/IPython/core/display.py:694: UserWarning: Consider using IPython.display.IFrame instead\n",
      "  warnings.warn(\"Consider using IPython.display.IFrame instead\")\n"
     ]
    },
    {
     "data": {
      "text/html": [
       "<iframe title=\"Es gibt bloss wenige Gemeindepr&auml;sidentinnen\" aria-label=\"Balken (gestapelt)\" src=\"//datawrapper.dwcdn.net/gF5cf/1/\" scrolling=\"no\" frameborder=\"0\" style=\"border: none;\" width=\"600\" height=\"400\"></iframe>"
      ],
      "text/plain": [
       "<IPython.core.display.HTML object>"
      ]
     },
     "execution_count": 29,
     "metadata": {},
     "output_type": "execute_result"
    }
   ],
   "source": [
    "# Grafik im Datawrapper erstellen. \n",
    "dw = Datawrapper(access_token = dw_config.dw_token)\n",
    "grafik = dw.create_chart(title = 'Es gibt bloss wenige Gemeindepräsidentinnen', chart_type = 'd3-bars-stacked', data = df_gender.reset_index()[['Verwaltungskreis', 'männer_prozent', 'frauen_prozent']])\n",
    "dw.update_description(grafik['id'], \n",
    "                      source_name = 'Kanton Bern',\n",
    "                      source_url = 'https://www.jgk.be.ch/jgk/de/index/gemeinden/gemeinden/gemeindedaten.html',\n",
    "                      byline = 'mbb')\n",
    "dw.publish_chart(grafik['id'])"
   ]
  },
  {
   "cell_type": "code",
   "execution_count": 30,
   "metadata": {},
   "outputs": [
    {
     "data": {
      "text/plain": [
       "'<iframe title=\"Es gibt bloss wenige Gemeindepr&auml;sidentinnen\" aria-label=\"Balken (gestapelt)\" src=\"//datawrapper.dwcdn.net/gF5cf/1/\" scrolling=\"no\" frameborder=\"0\" style=\"border: none;\" width=\"600\" height=\"400\"></iframe>'"
      ]
     },
     "execution_count": 30,
     "metadata": {},
     "output_type": "execute_result"
    }
   ],
   "source": [
    "# Mit diesem Code kann die Grafik im Redaktionssystem eingebunden werden. \n",
    "dw.get_iframe_code(grafik['id'])"
   ]
  },
  {
   "cell_type": "code",
   "execution_count": 31,
   "metadata": {},
   "outputs": [
    {
     "data": {
      "text/html": [
       "<div>\n",
       "<style scoped>\n",
       "    .dataframe tbody tr th:only-of-type {\n",
       "        vertical-align: middle;\n",
       "    }\n",
       "\n",
       "    .dataframe tbody tr th {\n",
       "        vertical-align: top;\n",
       "    }\n",
       "\n",
       "    .dataframe thead th {\n",
       "        text-align: right;\n",
       "    }\n",
       "</style>\n",
       "<table border=\"1\" class=\"dataframe\">\n",
       "  <thead>\n",
       "    <tr style=\"text-align: right;\">\n",
       "      <th></th>\n",
       "      <th>Einwohner</th>\n",
       "    </tr>\n",
       "    <tr>\n",
       "      <th>geschlecht</th>\n",
       "      <th></th>\n",
       "    </tr>\n",
       "  </thead>\n",
       "  <tbody>\n",
       "    <tr>\n",
       "      <th>m</th>\n",
       "      <td>3082.747405</td>\n",
       "    </tr>\n",
       "    <tr>\n",
       "      <th>w</th>\n",
       "      <td>2532.684211</td>\n",
       "    </tr>\n",
       "  </tbody>\n",
       "</table>\n",
       "</div>"
      ],
      "text/plain": [
       "              Einwohner\n",
       "geschlecht             \n",
       "m           3082.747405\n",
       "w           2532.684211"
      ]
     },
     "execution_count": 31,
     "metadata": {},
     "output_type": "execute_result"
    }
   ],
   "source": [
    "# Wie gross sind die Gemeinden im Durchschnitt, in denen Männer bzw. Frauen das Gemeindepräsidium innehaben? \n",
    "df.groupby(by='geschlecht')[['Einwohner']].mean()"
   ]
  },
  {
   "cell_type": "code",
   "execution_count": 32,
   "metadata": {},
   "outputs": [
    {
     "data": {
      "text/html": [
       "<div>\n",
       "<style scoped>\n",
       "    .dataframe tbody tr th:only-of-type {\n",
       "        vertical-align: middle;\n",
       "    }\n",
       "\n",
       "    .dataframe tbody tr th {\n",
       "        vertical-align: top;\n",
       "    }\n",
       "\n",
       "    .dataframe thead th {\n",
       "        text-align: right;\n",
       "    }\n",
       "</style>\n",
       "<table border=\"1\" class=\"dataframe\">\n",
       "  <thead>\n",
       "    <tr style=\"text-align: right;\">\n",
       "      <th></th>\n",
       "      <th>Einwohner</th>\n",
       "    </tr>\n",
       "    <tr>\n",
       "      <th>geschlecht</th>\n",
       "      <th></th>\n",
       "    </tr>\n",
       "  </thead>\n",
       "  <tbody>\n",
       "    <tr>\n",
       "      <th>m</th>\n",
       "      <td>1259</td>\n",
       "    </tr>\n",
       "    <tr>\n",
       "      <th>w</th>\n",
       "      <td>1062</td>\n",
       "    </tr>\n",
       "  </tbody>\n",
       "</table>\n",
       "</div>"
      ],
      "text/plain": [
       "            Einwohner\n",
       "geschlecht           \n",
       "m                1259\n",
       "w                1062"
      ]
     },
     "execution_count": 32,
     "metadata": {},
     "output_type": "execute_result"
    }
   ],
   "source": [
    "# Achtung: Der Median weicht ziemlich stark vom Mittelwert ab. Wie gross sind die Gemeinden im Mittel, \n",
    "# in denen Männer bzw. Frauen das Gemeindepräsidium innehaben? \n",
    "df.groupby(by='geschlecht')[['Einwohner']].median()"
   ]
  },
  {
   "cell_type": "code",
   "execution_count": 33,
   "metadata": {},
   "outputs": [
    {
     "data": {
      "text/html": [
       "<div>\n",
       "<style scoped>\n",
       "    .dataframe tbody tr th:only-of-type {\n",
       "        vertical-align: middle;\n",
       "    }\n",
       "\n",
       "    .dataframe tbody tr th {\n",
       "        vertical-align: top;\n",
       "    }\n",
       "\n",
       "    .dataframe thead th {\n",
       "        text-align: right;\n",
       "    }\n",
       "</style>\n",
       "<table border=\"1\" class=\"dataframe\">\n",
       "  <thead>\n",
       "    <tr style=\"text-align: right;\">\n",
       "      <th></th>\n",
       "      <th>Name</th>\n",
       "      <th>Vorname</th>\n",
       "      <th>Gemeinde</th>\n",
       "      <th>geschlecht</th>\n",
       "      <th>BFS</th>\n",
       "      <th>Früherer Amtsbezirk</th>\n",
       "      <th>Regionalkonferenz</th>\n",
       "      <th>Verwaltungsregion</th>\n",
       "      <th>Verwaltungskreis</th>\n",
       "      <th>Wahlkreis ab 01.01.2011</th>\n",
       "      <th>Einwohner</th>\n",
       "      <th>Bemerkung</th>\n",
       "    </tr>\n",
       "  </thead>\n",
       "  <tbody>\n",
       "    <tr>\n",
       "      <th>140</th>\n",
       "      <td>Berlinger-Staub</td>\n",
       "      <td>Annemarie</td>\n",
       "      <td>Köniz</td>\n",
       "      <td>w</td>\n",
       "      <td>355</td>\n",
       "      <td>Bern</td>\n",
       "      <td>Bern-Mittelland</td>\n",
       "      <td>Bern-Mittelland</td>\n",
       "      <td>Bern-Mittelland</td>\n",
       "      <td>Mittelland-Süd</td>\n",
       "      <td>41784</td>\n",
       "      <td>NaN</td>\n",
       "    </tr>\n",
       "    <tr>\n",
       "      <th>279</th>\n",
       "      <td>Brunner</td>\n",
       "      <td>Jolanda</td>\n",
       "      <td>Spiez</td>\n",
       "      <td>w</td>\n",
       "      <td>768</td>\n",
       "      <td>Niedersimmental</td>\n",
       "      <td>Thun Oberland-West</td>\n",
       "      <td>Oberland</td>\n",
       "      <td>Frutigen-Niedersimmental</td>\n",
       "      <td>Oberland</td>\n",
       "      <td>12812</td>\n",
       "      <td>NaN</td>\n",
       "    </tr>\n",
       "    <tr>\n",
       "      <th>194</th>\n",
       "      <td>Hess</td>\n",
       "      <td>Sandra</td>\n",
       "      <td>Nidau</td>\n",
       "      <td>w</td>\n",
       "      <td>743</td>\n",
       "      <td>Nidau</td>\n",
       "      <td>Biel/Bienne - Seeland - Jura bernois</td>\n",
       "      <td>Seeland</td>\n",
       "      <td>Biel/Bienne</td>\n",
       "      <td>Biel-Seeland</td>\n",
       "      <td>6823</td>\n",
       "      <td>NaN</td>\n",
       "    </tr>\n",
       "    <tr>\n",
       "      <th>29</th>\n",
       "      <td>Zuber</td>\n",
       "      <td>Kathrin</td>\n",
       "      <td>Bolligen</td>\n",
       "      <td>w</td>\n",
       "      <td>352</td>\n",
       "      <td>Bern</td>\n",
       "      <td>Bern-Mittelland</td>\n",
       "      <td>Bern-Mittelland</td>\n",
       "      <td>Bern-Mittelland</td>\n",
       "      <td>Mittelland-Nord</td>\n",
       "      <td>6264</td>\n",
       "      <td>NaN</td>\n",
       "    </tr>\n",
       "    <tr>\n",
       "      <th>136</th>\n",
       "      <td>Nyffenegger</td>\n",
       "      <td>Marianne</td>\n",
       "      <td>Kirchberg (BE)</td>\n",
       "      <td>w</td>\n",
       "      <td>412</td>\n",
       "      <td>Burgdorf</td>\n",
       "      <td>Emmental</td>\n",
       "      <td>Emmental-Oberaargau</td>\n",
       "      <td>Emmental</td>\n",
       "      <td>Emmental</td>\n",
       "      <td>5965</td>\n",
       "      <td>NaN</td>\n",
       "    </tr>\n",
       "  </tbody>\n",
       "</table>\n",
       "</div>"
      ],
      "text/plain": [
       "                Name    Vorname        Gemeinde geschlecht  BFS  \\\n",
       "140  Berlinger-Staub  Annemarie           Köniz          w  355   \n",
       "279          Brunner    Jolanda           Spiez          w  768   \n",
       "194             Hess     Sandra           Nidau          w  743   \n",
       "29             Zuber    Kathrin        Bolligen          w  352   \n",
       "136      Nyffenegger   Marianne  Kirchberg (BE)          w  412   \n",
       "\n",
       "    Früherer Amtsbezirk                     Regionalkonferenz  \\\n",
       "140                Bern                       Bern-Mittelland   \n",
       "279     Niedersimmental                    Thun Oberland-West   \n",
       "194               Nidau  Biel/Bienne - Seeland - Jura bernois   \n",
       "29                 Bern                       Bern-Mittelland   \n",
       "136            Burgdorf                              Emmental   \n",
       "\n",
       "       Verwaltungsregion          Verwaltungskreis Wahlkreis ab 01.01.2011  \\\n",
       "140      Bern-Mittelland           Bern-Mittelland          Mittelland-Süd   \n",
       "279             Oberland  Frutigen-Niedersimmental                Oberland   \n",
       "194              Seeland               Biel/Bienne            Biel-Seeland   \n",
       "29       Bern-Mittelland           Bern-Mittelland         Mittelland-Nord   \n",
       "136  Emmental-Oberaargau                  Emmental                Emmental   \n",
       "\n",
       "     Einwohner Bemerkung  \n",
       "140      41784       NaN  \n",
       "279      12812       NaN  \n",
       "194       6823       NaN  \n",
       "29        6264       NaN  \n",
       "136       5965       NaN  "
      ]
     },
     "execution_count": 33,
     "metadata": {},
     "output_type": "execute_result"
    }
   ],
   "source": [
    "# Welche Frauen leiten besonders grosse Gemeinden?\n",
    "df[df['geschlecht'] == 'w'].sort_values(by='Einwohner', ascending=False).head(5)"
   ]
  },
  {
   "cell_type": "code",
   "execution_count": 45,
   "metadata": {
    "scrolled": true
   },
   "outputs": [
    {
     "data": {
      "text/html": [
       "<div>\n",
       "<style scoped>\n",
       "    .dataframe tbody tr th:only-of-type {\n",
       "        vertical-align: middle;\n",
       "    }\n",
       "\n",
       "    .dataframe tbody tr th {\n",
       "        vertical-align: top;\n",
       "    }\n",
       "\n",
       "    .dataframe thead th {\n",
       "        text-align: right;\n",
       "    }\n",
       "</style>\n",
       "<table border=\"1\" class=\"dataframe\">\n",
       "  <thead>\n",
       "    <tr style=\"text-align: right;\">\n",
       "      <th></th>\n",
       "      <th>Name</th>\n",
       "      <th>Vorname</th>\n",
       "      <th>Gemeinde</th>\n",
       "      <th>geschlecht</th>\n",
       "      <th>BFS</th>\n",
       "      <th>Früherer Amtsbezirk</th>\n",
       "      <th>Regionalkonferenz</th>\n",
       "      <th>Verwaltungsregion</th>\n",
       "      <th>Verwaltungskreis</th>\n",
       "      <th>Wahlkreis ab 01.01.2011</th>\n",
       "      <th>Einwohner</th>\n",
       "      <th>Bemerkung</th>\n",
       "    </tr>\n",
       "  </thead>\n",
       "  <tbody>\n",
       "    <tr>\n",
       "      <th>140</th>\n",
       "      <td>Berlinger-Staub</td>\n",
       "      <td>Annemarie</td>\n",
       "      <td>Köniz</td>\n",
       "      <td>w</td>\n",
       "      <td>355</td>\n",
       "      <td>Bern</td>\n",
       "      <td>Bern-Mittelland</td>\n",
       "      <td>Bern-Mittelland</td>\n",
       "      <td>Bern-Mittelland</td>\n",
       "      <td>Mittelland-Süd</td>\n",
       "      <td>41784</td>\n",
       "      <td>NaN</td>\n",
       "    </tr>\n",
       "    <tr>\n",
       "      <th>279</th>\n",
       "      <td>Brunner</td>\n",
       "      <td>Jolanda</td>\n",
       "      <td>Spiez</td>\n",
       "      <td>w</td>\n",
       "      <td>768</td>\n",
       "      <td>Niedersimmental</td>\n",
       "      <td>Thun Oberland-West</td>\n",
       "      <td>Oberland</td>\n",
       "      <td>Frutigen-Niedersimmental</td>\n",
       "      <td>Oberland</td>\n",
       "      <td>12812</td>\n",
       "      <td>NaN</td>\n",
       "    </tr>\n",
       "    <tr>\n",
       "      <th>194</th>\n",
       "      <td>Hess</td>\n",
       "      <td>Sandra</td>\n",
       "      <td>Nidau</td>\n",
       "      <td>w</td>\n",
       "      <td>743</td>\n",
       "      <td>Nidau</td>\n",
       "      <td>Biel/Bienne - Seeland - Jura bernois</td>\n",
       "      <td>Seeland</td>\n",
       "      <td>Biel/Bienne</td>\n",
       "      <td>Biel-Seeland</td>\n",
       "      <td>6823</td>\n",
       "      <td>NaN</td>\n",
       "    </tr>\n",
       "    <tr>\n",
       "      <th>29</th>\n",
       "      <td>Zuber</td>\n",
       "      <td>Kathrin</td>\n",
       "      <td>Bolligen</td>\n",
       "      <td>w</td>\n",
       "      <td>352</td>\n",
       "      <td>Bern</td>\n",
       "      <td>Bern-Mittelland</td>\n",
       "      <td>Bern-Mittelland</td>\n",
       "      <td>Bern-Mittelland</td>\n",
       "      <td>Mittelland-Nord</td>\n",
       "      <td>6264</td>\n",
       "      <td>NaN</td>\n",
       "    </tr>\n",
       "    <tr>\n",
       "      <th>136</th>\n",
       "      <td>Nyffenegger</td>\n",
       "      <td>Marianne</td>\n",
       "      <td>Kirchberg (BE)</td>\n",
       "      <td>w</td>\n",
       "      <td>412</td>\n",
       "      <td>Burgdorf</td>\n",
       "      <td>Emmental</td>\n",
       "      <td>Emmental-Oberaargau</td>\n",
       "      <td>Emmental</td>\n",
       "      <td>Emmental</td>\n",
       "      <td>5965</td>\n",
       "      <td>NaN</td>\n",
       "    </tr>\n",
       "  </tbody>\n",
       "</table>\n",
       "</div>"
      ],
      "text/plain": [
       "                Name    Vorname        Gemeinde geschlecht  BFS  \\\n",
       "140  Berlinger-Staub  Annemarie           Köniz          w  355   \n",
       "279          Brunner    Jolanda           Spiez          w  768   \n",
       "194             Hess     Sandra           Nidau          w  743   \n",
       "29             Zuber    Kathrin        Bolligen          w  352   \n",
       "136      Nyffenegger   Marianne  Kirchberg (BE)          w  412   \n",
       "\n",
       "    Früherer Amtsbezirk                     Regionalkonferenz  \\\n",
       "140                Bern                       Bern-Mittelland   \n",
       "279     Niedersimmental                    Thun Oberland-West   \n",
       "194               Nidau  Biel/Bienne - Seeland - Jura bernois   \n",
       "29                 Bern                       Bern-Mittelland   \n",
       "136            Burgdorf                              Emmental   \n",
       "\n",
       "       Verwaltungsregion          Verwaltungskreis Wahlkreis ab 01.01.2011  \\\n",
       "140      Bern-Mittelland           Bern-Mittelland          Mittelland-Süd   \n",
       "279             Oberland  Frutigen-Niedersimmental                Oberland   \n",
       "194              Seeland               Biel/Bienne            Biel-Seeland   \n",
       "29       Bern-Mittelland           Bern-Mittelland         Mittelland-Nord   \n",
       "136  Emmental-Oberaargau                  Emmental                Emmental   \n",
       "\n",
       "     Einwohner Bemerkung  \n",
       "140      41784       NaN  \n",
       "279      12812       NaN  \n",
       "194       6823       NaN  \n",
       "29        6264       NaN  \n",
       "136       5965       NaN  "
      ]
     },
     "execution_count": 45,
     "metadata": {},
     "output_type": "execute_result"
    }
   ],
   "source": [
    "# Welche Frauen leiten besonders grosse Gemeinden?\n",
    "df[df['geschlecht'] == 'w'].sort_values(by='Einwohner', ascending=False).head(5)"
   ]
  },
  {
   "cell_type": "code",
   "execution_count": 56,
   "metadata": {},
   "outputs": [
    {
     "data": {
      "text/plain": [
       "17"
      ]
     },
     "execution_count": 56,
     "metadata": {},
     "output_type": "execute_result"
    }
   ],
   "source": [
    "# Wie viele Gemeinden mit über 10000 Einwohnern gibts im Kanton? \n",
    "len(df[df['Einwohner'] > 10000])"
   ]
  },
  {
   "cell_type": "code",
   "execution_count": 57,
   "metadata": {},
   "outputs": [
    {
     "data": {
      "text/plain": [
       "11.764705882352942"
      ]
     },
     "execution_count": 57,
     "metadata": {},
     "output_type": "execute_result"
    }
   ],
   "source": [
    "# Welchen Prozentsatz haben Frauen in den Gemeinden mit über 10000 Einwohnern?\n",
    "100 * 2 / 17"
   ]
  },
  {
   "cell_type": "code",
   "execution_count": 53,
   "metadata": {},
   "outputs": [
    {
     "data": {
      "text/plain": [
       "m    78\n",
       "w    22\n",
       "Name: geschlecht, dtype: int64"
      ]
     },
     "execution_count": 53,
     "metadata": {},
     "output_type": "execute_result"
    }
   ],
   "source": [
    "# Wie ist das Geschlechterverhältnis bei den 100 kleinsten Gemeinden?\n",
    "df.sort_values(by='Einwohner').head(100)['geschlecht'].value_counts()"
   ]
  },
  {
   "cell_type": "code",
   "execution_count": 58,
   "metadata": {},
   "outputs": [
    {
     "data": {
      "text/plain": [
       "28.205128205128204"
      ]
     },
     "execution_count": 58,
     "metadata": {},
     "output_type": "execute_result"
    }
   ],
   "source": [
    "# Welchen Prozentsatz haben Frauen in den 200 kleinsten Gemeinden? \n",
    "100 * 22 / 78"
   ]
  },
  {
   "cell_type": "code",
   "execution_count": 34,
   "metadata": {},
   "outputs": [
    {
     "data": {
      "image/png": "[encoded data removed]",
      "text/plain": [
       "<Figure size 864x504 with 1 Axes>"
      ]
     },
     "metadata": {
      "needs_background": "light"
     },
     "output_type": "display_data"
    }
   ],
   "source": [
    "# Karte mit der Geschlechterverteilung. \n",
    "# Generieren einer Gemeindekarte. \n",
    "gdf = gpd.read_file('../../grundlagendaten/karten/gemeindegrenzen/2019/g1g19.shp')\n",
    "gdf.crs = {'init' :'epsg:2056'}\n",
    "\n",
    "# Der eigentliche Datensatz wird angefügt.\n",
    "gdf['GMDNR'] = gdf['GMDNR'].astype('int')\n",
    "gdf = gdf[gdf['KTNR'] == 2]\n",
    "gdf = pd.merge(gdf, df, left_on='GMDNR', right_on='BFS', how='left')\n",
    "\n",
    "# Plotten der Karte\n",
    "fig, ax = plt.subplots(1, figsize=(12, 7))\n",
    "for g in ['m', 'w']:\n",
    "    c = {'m': 'cornflowerblue', 'w': 'violet'}\n",
    "    gdf[gdf['geschlecht'] == g].plot(ax = ax, color=c[g])\n",
    "\n",
    "\n",
    "# Die Beschriftungen werden hinzugefügt. \n",
    "for x, y, b, g, v, n in zip(gdf['geometry'].centroid.x, gdf['geometry'].centroid.y, gdf['BFS'], gdf['Gemeinde'], gdf['Vorname'], gdf['Name']):\n",
    "    if b in [355, 768, 743, 352, 412]:\n",
    "        t = g + ':\\n' + v + ' ' + n\n",
    "        ax.annotate(t, xy=(x, y), xytext=(3, 3), textcoords=\"offset points\")\n",
    "\n",
    "ax.axis('off')\n",
    "\n",
    "# Abspeichern der Karte. \n",
    "plt.tight_layout()\n",
    "plt.savefig('output/karte.svg')"
   ]
  },
  {
   "cell_type": "code",
   "execution_count": null,
   "metadata": {},
   "outputs": [],
   "source": []
  }
 ],
 "metadata": {
  "kernelspec": {
   "display_name": "Python 3",
   "language": "python",
   "name": "python3"
  },
  "language_info": {
   "codemirror_mode": {
    "name": "ipython",
    "version": 3
   },
   "file_extension": ".py",
   "mimetype": "text/x-python",
   "name": "python",
   "nbconvert_exporter": "python",
   "pygments_lexer": "ipython3",
   "version": "3.7.5"
  },
  "toc": {
   "base_numbering": 1,
   "nav_menu": {},
   "number_sections": true,
   "sideBar": true,
   "skip_h1_title": true,
   "title_cell": "Inhaltsverzeichnis",
   "title_sidebar": "Inhalt",
   "toc_cell": true,
   "toc_position": {},
   "toc_section_display": true,
   "toc_window_display": true
  },
  "varInspector": {
   "cols": {
    "lenName": 16,
    "lenType": 16,
    "lenVar": 40
   },
   "kernels_config": {
    "python": {
     "delete_cmd_postfix": "",
     "delete_cmd_prefix": "del ",
     "library": "var_list.py",
     "varRefreshCmd": "print(var_dic_list())"
    },
    "r": {
     "delete_cmd_postfix": ") ",
     "delete_cmd_prefix": "rm(",
     "library": "var_list.r",
     "varRefreshCmd": "cat(var_dic_list()) "
    }
   },
   "types_to_exclude": [
    "module",
    "function",
    "builtin_function_or_method",
    "instance",
    "_Feature"
   ],
   "window_display": false
  }
 },
 "nbformat": 4,
 "nbformat_minor": 2
}
